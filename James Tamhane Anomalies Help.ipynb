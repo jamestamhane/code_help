{
 "cells": [
  {
   "cell_type": "markdown",
   "metadata": {},
   "source": [
    "I'm trying to find the anomalous conditions for mean sea level pressure in a certain region from the 5/10/2014 to 16/01/2015\n",
    "\n",
    "I need to take avergae the data between the 5/10 and 16/1 evey year between 1980 and 2018. I'm trying to do this by using the xarray grouby or the index functions. I've read the doucmentation on indexing and grouby but can't figure it out. \n",
    "\n",
    "I know how to do it by the predefined, values such as months, days, year and season, but I can't figure out how to do it with this custom date range\n",
    "\n",
    "Thank you!"
   ]
  },
  {
   "cell_type": "code",
   "execution_count": 8,
   "metadata": {},
   "outputs": [],
   "source": [
    "import xarray \n",
    "import numpy as np\n",
    "import cartopy\n",
    "import datetime as dt\n",
    "import pandas as pd\n",
    "import cartopy.crs as ccrs\n",
    "import cartopy.feature as cfeature\n",
    "import matplotlib.pyplot as plt"
   ]
  },
  {
   "cell_type": "code",
   "execution_count": 9,
   "metadata": {},
   "outputs": [],
   "source": [
    "ds1 = xarray.open_dataset('/g/data/e14/jt8205/atmos_data/anom_SLP_1980_2018_r360x180.nc')"
   ]
  },
  {
   "cell_type": "code",
   "execution_count": 11,
   "metadata": {},
   "outputs": [],
   "source": [
    "msl_warm = msl.sel(time=slice('1980-01-01','2015-01-16')).sel(lon=slice(215,280), lat = slice(-57, -32))\n"
   ]
  },
  {
   "cell_type": "code",
   "execution_count": null,
   "metadata": {},
   "outputs": [],
   "source": [
    "time_msl_warm = #_______ need to calculate average_msl_time to complete this step\n",
    "average_msl_warm = time_msl_warm.mean(dim='time')"
   ]
  },
  {
   "cell_type": "code",
   "execution_count": null,
   "metadata": {},
   "outputs": [],
   "source": [
    "anom_msl_warm = (msl_warm - average_msl_warm)"
   ]
  },
  {
   "cell_type": "code",
   "execution_count": null,
   "metadata": {},
   "outputs": [],
   "source": []
  },
  {
   "cell_type": "code",
   "execution_count": null,
   "metadata": {},
   "outputs": [],
   "source": [
    "########## Ways ive trued to calculate MSL time"
   ]
  },
  {
   "cell_type": "code",
   "execution_count": null,
   "metadata": {},
   "outputs": [],
   "source": [
    "#I thought i could maybe select the data across years this way?\n",
    "time_msl_warm = msl.sel(time=slice('*-10-05','*-01-16'))"
   ]
  },
  {
   "cell_type": "code",
   "execution_count": null,
   "metadata": {},
   "outputs": [],
   "source": [
    "#The plan here was to select the time using the and/or conds then find the mean\n",
    "time_msl_warm = msl[\n",
    "    ((msl['time'].dt.day <=5) and (msl['time'].dt.month == 10))\n",
    "    or\n",
    "    (msl['time'].dt.month == 11)\n",
    "    or\n",
    "    (msl['time'].dt.month == 12)\n",
    "    or\n",
    "    ((msl['time'].dt.day <=16) and (msl['time'].dt.month == 1))\n",
    "]"
   ]
  }
 ],
 "metadata": {
  "kernelspec": {
   "display_name": "Python 3",
   "language": "python",
   "name": "python3"
  },
  "language_info": {
   "codemirror_mode": {
    "name": "ipython",
    "version": 3
   },
   "file_extension": ".py",
   "mimetype": "text/x-python",
   "name": "python",
   "nbconvert_exporter": "python",
   "pygments_lexer": "ipython3",
   "version": "3.8.6"
  }
 },
 "nbformat": 4,
 "nbformat_minor": 4
}
